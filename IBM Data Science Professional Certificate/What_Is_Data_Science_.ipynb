{
  "nbformat": 4,
  "nbformat_minor": 0,
  "metadata": {
    "colab": {
      "provenance": []
    },
    "kernelspec": {
      "name": "python3",
      "display_name": "Python 3"
    },
    "language_info": {
      "name": "python"
    }
  },
  "cells": [
    {
      "cell_type": "markdown",
      "source": [
        "# **Modul 1**"
      ],
      "metadata": {
        "id": "NyxjFRlGTHHD"
      }
    },
    {
      "cell_type": "markdown",
      "source": [
        "# **What Is Data Science?**\n",
        "\n",
        "Main Keywords: Exploration, Innovation, Story Telling\n",
        "\n",
        "Berikut beberapa pelajaran penting dari materi ini:  \n",
        "\n",
        "1. **Data Science adalah Perjalanan:** Ini adalah proses yang berkelanjutan, bukan hasil instan. Kita harus terus belajar, bereksperimen, dan mengembangkan pendekatan untuk menemukan wawasan dari data.  \n",
        "\n",
        "2. **Fokus pada Pemahaman dan Wawasan:** Data science tidak hanya tentang angka, tetapi bagaimana kita menerjemahkan data menjadi cerita yang memiliki makna dan dampak. Kemampuan storytelling adalah bagian penting dari data science.  \n",
        "\n",
        "3. **Kemajuan Teknologi Membuka Peluang Besar:** Di masa lalu, keterbatasan teknologi membatasi analisis data. Sekarang, dengan data yang melimpah, algoritma yang canggih, dan alat yang murah serta mudah diakses, hampir semua orang bisa menjadi data scientist jika memiliki rasa ingin tahu dan tekad.  \n",
        "\n",
        "4. **Ilmu dan Seni:** Data science adalah kombinasi ilmu (metode statistik, algoritma) dan seni (pemikiran kreatif, komunikasi). Keberhasilannya bergantung pada keseimbangan keduanya.  \n",
        "\n",
        "5. **Relevansi di Era Modern:** Dalam dunia yang dipenuhi data, kemampuan untuk menganalisis, memahami, dan mengambil keputusan berdasarkan data menjadi keterampilan yang sangat penting dan berharga.  \n",
        "\n",
        "**Kesimpulan:** Data science adalah jembatan antara data mentah dan pengambilan keputusan yang cerdas. Ini bukan hanya soal alat atau metode, tetapi juga soal bagaimana kita memahami, mengeksplorasi, dan menggunakan data untuk menciptakan dampak positif di dunia."
      ],
      "metadata": {
        "id": "CiuugZavCnjN"
      }
    },
    {
      "cell_type": "markdown",
      "source": [
        "## **Fundamental Of Data Science**\n",
        "\n",
        "#### **1. Esensi Data Science**  \n",
        "- Data Science memiliki banyak definisi, tetapi analisis data adalah komponen utamanya.  \n",
        "- Perubahan utama: jumlah data besar dan bervariasi kini tersedia (log file, media sosial, data penjualan, sensor, dll.).  \n",
        "- Kekuatan komputasi modern memungkinkan analisis data lebih mendalam untuk menghasilkan pengetahuan baru.  \n",
        "\n",
        "#### **2. Manfaat Data Science**  \n",
        "- Membantu organisasi memahami lingkungan mereka.  \n",
        "- Menganalisis masalah dan mengungkap peluang tersembunyi.  \n",
        "- Menambah nilai bisnis dengan eksplorasi data.  \n",
        "\n",
        "#### **3. Proses Data Science**  \n",
        "1. **Definisi Masalah:**  \n",
        "   - Fokus pada masalah spesifik yang ingin dipecahkan.  \n",
        "   - Definisikan pertanyaan utama sebagai panduan proyek.  \n",
        "\n",
        "2. **Pengumpulan Data:**  \n",
        "   - Tentukan data yang diperlukan dan sumbernya.  \n",
        "   - Data dapat berupa terstruktur (misalnya tabel) atau tidak terstruktur (misalnya teks, gambar).  \n",
        "\n",
        "3. **Analisis Data:**  \n",
        "   - Gunakan berbagai model untuk mengeksplorasi data.  \n",
        "   - Temukan pola, anomali, dan wawasan baru.  \n",
        "   - Hasil dapat mengonfirmasi asumsi atau membuka pendekatan baru.  \n",
        "\n",
        "4. **Komunikasi Hasil:**  \n",
        "   - Data scientist bertindak sebagai pendongeng (storyteller).  \n",
        "   - Gunakan alat visualisasi data untuk menyampaikan hasil.  \n",
        "   - Berikan rekomendasi yang jelas kepada pemangku kepentingan.  \n",
        "\n",
        "#### **4. Kualitas yang Harus Dimiliki Data Scientist**  \n",
        "- **Rasa ingin tahu** untuk memahami masalah dan bertanya lebih dalam.  \n",
        "- **Kemampuan berpikir kritis** untuk mendefinisikan kebutuhan bisnis.  \n",
        "- **Fleksibilitas teknis** dalam bekerja dengan berbagai jenis data dan model.  \n",
        "- **Kemampuan storytelling** untuk menyampaikan wawasan secara efektif.  \n",
        "- **Fokus pada dampak bisnis** untuk memberikan nilai nyata kepada organisasi.  "
      ],
      "metadata": {
        "id": "j28oxex8F5mP"
      }
    },
    {
      "cell_type": "markdown",
      "source": [
        "# **The Many Paths to Data Science**\n",
        "\n",
        "### **Catatan Penting tentang Perjalanan ke Dunia Data Science**\n",
        "\n",
        "#### **1. Data Science Adalah Bidang Baru**\n",
        "- Data science belum ada saat banyak orang tumbuh dewasa; istilah ini baru muncul sekitar tahun **2009–2011**.  \n",
        "- Sebelumnya, fokus utama adalah statistik, analisis data, atau bidang lain seperti teknik atau bisnis.  \n",
        "- Istilah data science mulai digunakan oleh tokoh seperti **DJ Patil** atau **Andrew Gelman**.  \n",
        "\n",
        "#### **2. Motivasi Masuk ke Dunia Data Science**\n",
        "- Ketertarikan pada analisis data karena:  \n",
        "  - Kesulitan menyelesaikan masalah dengan teknik konvensional.  \n",
        "  - Menemukan data science lebih menarik dibandingkan bidang sebelumnya, seperti bisnis atau pengembangan proyek.  \n",
        "  - Meningkatnya kebutuhan akan keterampilan praktis setelah krisis ekonomi.  \n",
        "\n",
        "#### **3. Titik Awal Perkenalan Data Science**\n",
        "- Berbagai momen penting yang membawa orang ke data science:  \n",
        "  - **Magang:** Memilih magang di bidang data science sebagai titik awal karier.  \n",
        "  - **Penelitian Transportasi:** Membuat model besar untuk memprediksi pola lalu lintas dan emisi.  \n",
        "  - **Pengalaman Kerja:** Banyak orang melakukan pekerjaan data science bahkan sebelum istilah itu populer.  \n",
        "\n",
        "#### **4. Evolusi Penggunaan Data Science**\n",
        "- Pada awalnya, pekerjaan seperti ini disebut analisis data atau statistik.  \n",
        "- Istilah \"data science\" baru mulai dikenal luas dalam beberapa tahun terakhir.  \n",
        "- Transformasi ini menunjukkan evolusi cara organisasi memandang dan memanfaatkan data.  \n",
        "\n",
        "#### **Kesimpulan:**\n",
        "- Perjalanan menuju data science sangat beragam, bergantung pada latar belakang dan pengalaman.  \n",
        "- Bidang ini lahir dari kebutuhan untuk mengatasi masalah kompleks menggunakan data besar dan teknologi modern.  \n",
        "- Data science menjadi menarik karena penggabungan antara teknik, analitik, dan aplikasi praktis yang berdampak besar.  \n"
      ],
      "metadata": {
        "id": "uTXnzoE5HrzW"
      }
    },
    {
      "cell_type": "markdown",
      "source": [
        "# **Advice for New Data Scientists**\n",
        "\n",
        "#### **1. Kualitas Utama Seorang Data Scientist**\n",
        "- **Rasa Ingin Tahu (Curiosity):**  \n",
        "  - Wajib dimiliki untuk memahami data dan mengetahui apa yang harus dilakukan dengannya.  \n",
        "  - Tanpa rasa ingin tahu, sulit memulai eksplorasi data.  \n",
        "- **Kemampuan Berargumen (Argumentative):**  \n",
        "  - Membantu membangun kasus awal berdasarkan asumsi atau hipotesis.  \n",
        "  - Data akan membantu memvalidasi atau mengubah asumsi tersebut, sehingga menciptakan proses pembelajaran.  \n",
        "- **Sikap Judgmental:**  \n",
        "  - Memiliki prasangka awal tentang sesuatu membantu menentukan titik awal analisis.  \n",
        "  - Membuka jalan untuk belajar dari data dan memodifikasi hipotesis.  \n",
        "\n",
        "#### **2. Kemampuan Pendukung yang Diperlukan**\n",
        "- **Pemahaman Platform Analitik:**  \n",
        "  - Kenyamanan menggunakan perangkat lunak dan platform komputasi.  \n",
        "  - Meskipun penting, ini adalah prioritas kedua setelah rasa ingin tahu dan kemampuan berargumen.  \n",
        "- **Kemampuan Bercerita (Storytelling):**  \n",
        "  - Data scientist harus mampu mengubah temuan analitik menjadi cerita yang menarik dan dapat dimengerti.  \n",
        "  - Temuan yang tidak dikomunikasikan dengan baik akan tetap tersembunyi dan tidak berdampak.  \n",
        "\n",
        "#### **3. Menemukan Keunggulan Kompetitif**\n",
        "- Tentukan bidang atau industri yang diminati untuk menjadi data scientist:  \n",
        "  - **Teknologi atau Internet:** Membutuhkan keterampilan analitik berbasis data digital.  \n",
        "  - **Kesehatan:** Memerlukan pemahaman data kesehatan dan aplikasi medis.  \n",
        "  - **Retail, Film, atau Bidang Lainnya:** Fokus pada keahlian khusus di bidang tersebut.  \n",
        "- **Keunggulan Kompetitif:**  \n",
        "  - Tidak hanya pada keterampilan analitik, tetapi juga pada pemahaman mendalam tentang bidang tertentu.  \n",
        "  - Identifikasi keahlian yang membuat Anda lebih unggul dibandingkan orang lain.  \n",
        "\n",
        "#### **4. Langkah untuk Menjadi Data Scientist**\n",
        "1. **Temukan Minat dan Keahlian Anda:**  \n",
        "   - Identifikasi industri atau bidang yang Anda minati.  \n",
        "2. **Kuasai Keterampilan Analitik yang Sesuai:**  \n",
        "   - Pelajari alat dan platform analitik yang relevan dengan industri pilihan Anda.  \n",
        "3. **Terapkan Keterampilan pada Masalah Nyata:**  \n",
        "   - Gunakan keterampilan analitik Anda untuk menyelesaikan masalah dunia nyata.  \n",
        "4. **Komunikasikan Temuan Anda:**  \n",
        "   - Ceritakan apa yang telah Anda lakukan dengan cara yang menarik dan relevan bagi audiens.  \n",
        "\n",
        "#### **Kesimpulan:**\n",
        "- Seorang data scientist sukses tidak hanya memiliki keterampilan teknis, tetapi juga rasa ingin tahu, kemampuan berargumen, pemahaman mendalam tentang bidang yang diminati, dan kemampuan untuk bercerita.  \n",
        "- Data science adalah perpaduan antara analitik, pemahaman kontekstual, dan komunikasi yang efektif.  "
      ],
      "metadata": {
        "id": "Qshp1o3VRriR"
      }
    },
    {
      "cell_type": "markdown",
      "source": [],
      "metadata": {
        "id": "CEjuytOwTS2n"
      }
    },
    {
      "cell_type": "code",
      "execution_count": null,
      "metadata": {
        "id": "_pd0NmD7CkFq"
      },
      "outputs": [],
      "source": []
    }
  ]
}